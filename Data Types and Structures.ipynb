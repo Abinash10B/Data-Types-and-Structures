{
 "cells": [
  {
   "cell_type": "markdown",
   "id": "66cf368b-113b-4a3e-8488-99543f4c843b",
   "metadata": {},
   "source": [
    "THEORY QUESTIONS:"
   ]
  },
  {
   "cell_type": "markdown",
   "id": "f5fd0687-6274-4127-aa89-ebea00d256a2",
   "metadata": {},
   "source": [
    "1.What are data structures, and why are they important?\n",
    "Ana->Data structures are fundamental ways of organizing and storing data for efficient access and manipulation within computer programs. They are important because they enable efficient algorithms and make data management more effective. "
   ]
  },
  {
   "cell_type": "markdown",
   "id": "f7880ce4-9ad4-4ddf-9e80-87d9d5da463d",
   "metadata": {},
   "source": [
    "2.Explain the difference between mutable and immutable data types with examples?\n",
    "Ans->Mutable data types are those whose internal state or content can be modified after the object has been created such as list,dictonary and set.\n",
    "Immutable data types are those whose values cannot be altered once the object has been created such as int,float,bool,string and tuple."
   ]
  },
  {
   "cell_type": "markdown",
   "id": "0aadf40a-daaa-47ba-9ea2-bed749c5fdef",
   "metadata": {},
   "source": [
    "3.What are the main differences between lists and tuples in Python?\n",
    "Ans->Lists are mutable such that we can change its value where as tuples are immutable such that we can't change its value."
   ]
  },
  {
   "cell_type": "markdown",
   "id": "a6e0560c-d022-49d6-a55d-ad5634b2290c",
   "metadata": {},
   "source": [
    "4.Describe how dictionaries store data?\n",
    "Ans->Dictionaries are used to store data values in key:value pairs."
   ]
  },
  {
   "cell_type": "markdown",
   "id": "5e847409-c34f-41b5-8c09-20dcb79fadea",
   "metadata": {},
   "source": [
    "5.Why might you use a set instead of a list in Python?\n",
    "Ans->Sets inherently store only unique elements. If you need a collection where duplicates are automatically removed or prevented, a set is the ideal choice."
   ]
  },
  {
   "cell_type": "markdown",
   "id": "159593bc-2377-42ee-b8e8-d55d5c5029c9",
   "metadata": {},
   "source": [
    "6.What is a string in Python, and how is it different from a list?\n",
    "Ans->A string is a sequence of characters where as list is used to store integer,char,string and other data types."
   ]
  },
  {
   "cell_type": "markdown",
   "id": "ae7f5648-adf3-49ac-81e1-732f0abcff6c",
   "metadata": {},
   "source": [
    "7.How do tuples ensure data integrity in Python?\n",
    "Ans->Tuples are immutable to ensure that their contents remain constant throughout their lifecycle, guaranteeing data integrity and reliability."
   ]
  },
  {
   "cell_type": "markdown",
   "id": "f0febcc2-8ce1-45cc-aa33-0490e5ba2f67",
   "metadata": {},
   "source": [
    "8.What is a hash table, and how does it relate to dictionaries in Python?\n",
    "Ans->A hash table is a data structure that implements an associative array, also called a dictionary."
   ]
  },
  {
   "cell_type": "markdown",
   "id": "d98ea355-13be-4531-a565-6d9d6ff51168",
   "metadata": {},
   "source": [
    "9.Can lists contain different data types in Python?\n",
    "Ans->Yes."
   ]
  },
  {
   "cell_type": "markdown",
   "id": "72087d66-6798-4c7c-885d-bed160e4a625",
   "metadata": {},
   "source": [
    "10.Explain why strings are immutable in Python?\n",
    "Ans->Immutability ensures that a string's value remains constant, preventing unintended modifications, especially when the string is passed around in different parts of a program or used as a key in data structures like dictionaries."
   ]
  },
  {
   "cell_type": "markdown",
   "id": "cebc083f-54bf-498d-94c9-a7984e1ddfb6",
   "metadata": {},
   "source": [
    "11.What advantages do dictionaries offer over lists for certain tasks?\n",
    "Ans->Dictionaries provide faster lookup than lists."
   ]
  },
  {
   "cell_type": "markdown",
   "id": "842e272f-849f-4c5b-a20d-b2be483251d6",
   "metadata": {},
   "source": [
    "12.Describe a scenario where using a tuple would be preferable over a list?\n",
    "Ans->If you're defining a constant set of values and all you're ever going to do with it is iterate through it, use a tuple instead of a list.Tuples are also faster than lists."
   ]
  },
  {
   "cell_type": "markdown",
   "id": "e6c4c109-b422-4d43-8d5f-366b1d95fd36",
   "metadata": {},
   "source": [
    "13.How do sets handle duplicate values in Python?\n",
    "Ans->When attempting to add a duplicate value to a set, the set simply ignores the addition, and the existing element remains."
   ]
  },
  {
   "cell_type": "markdown",
   "id": "5ab8c74a-6328-400e-bf94-792d9838557f",
   "metadata": {},
   "source": [
    "14.How does the “in” keyword work differently for lists and dictionaries?\n",
    "Ans->The \"in\" keyword checks if an element is present in the list where as in Dictionary the \"in\" keyword checks if a key is present in the dictionary, not a value."
   ]
  },
  {
   "cell_type": "markdown",
   "id": "7d360a59-8c99-440b-ba76-f5ecdaa3fe2d",
   "metadata": {},
   "source": [
    "15.Can you modify the elements of a tuple? Explain why or why not?\n",
    "Ans->No, you cannot directly modify the elements of a tuple in Python. Tuples are immutable, meaning their contents cannot be changed after creation. If you try to modify a tuple, you'll get a \"TypeError\"."
   ]
  },
  {
   "cell_type": "markdown",
   "id": "9fb63014-68a3-4ff6-b705-bd8c087caed9",
   "metadata": {},
   "source": [
    "16.What is a nested dictionary, and give an example of its use case?\n",
    "Ans->A nested dictionary is a dictionary where at least one of the values is itself a dictionary.Ex-:Store employee details (name, department, salary, address) where each employee's information is a dictionary within the main employee dictionary. "
   ]
  },
  {
   "cell_type": "markdown",
   "id": "8707d2bc-7e53-4556-b5ad-27ef303a6103",
   "metadata": {},
   "source": [
    "17.Describe the time complexity of accessing elements in a dictionary?\n",
    "Ans->Accessing elements in a dictionary typically has a time complexity of O(1) on average, which means it takes constant time regardless of the dictionary's size. This is because dictionaries use a hash table internally to store and retrieve data, and hash table lookups are generally very fast. "
   ]
  },
  {
   "cell_type": "markdown",
   "id": "4551c1ff-deda-4d8b-8611-e6cd3e7d93c9",
   "metadata": {},
   "source": [
    "18.In what situations are lists preferred over dictionaries?\n",
    "Ans->For quick data look-ups, configurations, or caches, favor dictionaries. For ordered collections and sequence operations, such as maintaining a stack or queue, lists are more suitable."
   ]
  },
  {
   "cell_type": "markdown",
   "id": "9412e9f3-97d8-4814-a4b9-d5e57731f0d2",
   "metadata": {},
   "source": [
    "19.Why are dictionaries considered unordered, and how does that affect data retrieval?\n",
    "Ans->A dictionary is termed an unordered collection of objects because dictionaries do not maintain any inherent order of the items based on when they were added.It retrieve data using keys so it is less time and more efficient."
   ]
  },
  {
   "cell_type": "markdown",
   "id": "811e7abb-ad4e-4385-9e77-6827c62a1acb",
   "metadata": {},
   "source": [
    "20.Explain the difference between a list and a dictionary in terms of data retrieval?\n",
    "Ans->Lists are ordered sequences accessed by numerical indices, while dictionaries are unordered collections accessed by unique keys."
   ]
  },
  {
   "cell_type": "markdown",
   "id": "4c7fdd4b-ddab-4690-891b-21fde0ed3437",
   "metadata": {},
   "source": [
    "PRACTICAL QUESTIONS:"
   ]
  },
  {
   "cell_type": "code",
   "execution_count": 1,
   "id": "17de245c-1411-4e01-b8ce-2baf4472c297",
   "metadata": {},
   "outputs": [
    {
     "name": "stdout",
     "output_type": "stream",
     "text": [
      "Abinash\n"
     ]
    }
   ],
   "source": [
    "#1.Write a code to create a string with your name and print it?\n",
    "str1=\"Abinash\"\n",
    "print(str1)"
   ]
  },
  {
   "cell_type": "code",
   "execution_count": 2,
   "id": "7857bc38-1981-45b0-b456-49bbe2ac5ee8",
   "metadata": {},
   "outputs": [
    {
     "name": "stdout",
     "output_type": "stream",
     "text": [
      "11\n"
     ]
    }
   ],
   "source": [
    "#2.Write a code to find the length of the string \"Hello World\"?\n",
    "str2=\"Hello World\"\n",
    "print(len(str2))"
   ]
  },
  {
   "cell_type": "code",
   "execution_count": 4,
   "id": "b09b25ad-80bc-40e3-a063-57ca3703fd62",
   "metadata": {},
   "outputs": [
    {
     "name": "stdout",
     "output_type": "stream",
     "text": [
      "Pyt\n"
     ]
    }
   ],
   "source": [
    "#3.Write a code to slice the first 3 characters from the string \"Python Programming\"?\n",
    "str3=\"Python Programming\"\n",
    "print(str3[0:3])"
   ]
  },
  {
   "cell_type": "code",
   "execution_count": 5,
   "id": "c6a16635-a500-4495-9311-514ce0d54f96",
   "metadata": {},
   "outputs": [
    {
     "name": "stdout",
     "output_type": "stream",
     "text": [
      "HELLO\n"
     ]
    }
   ],
   "source": [
    "#4.Write a code to convert the string \"hello\" to uppercase?\n",
    "x= \"hello\"\n",
    "print(x.upper())"
   ]
  },
  {
   "cell_type": "code",
   "execution_count": 7,
   "id": "10599b15-deeb-4ea1-84e4-42e6f951ea2f",
   "metadata": {},
   "outputs": [
    {
     "name": "stdout",
     "output_type": "stream",
     "text": [
      "I like orange\n"
     ]
    }
   ],
   "source": [
    "#5.Write a code to replace the word \"apple\" with \"orange\" in the string \"I like apple\"?\n",
    "x=\"I like apple\"\n",
    "print(x.replace(\"apple\",\"orange\"))"
   ]
  },
  {
   "cell_type": "code",
   "execution_count": 8,
   "id": "91e0426d-c413-4168-964b-41395b60c1c8",
   "metadata": {},
   "outputs": [
    {
     "name": "stdout",
     "output_type": "stream",
     "text": [
      "[1, 2, 3, 4, 5]\n"
     ]
    }
   ],
   "source": [
    "#6.Write a code to create a list with numbers 1 to 5 and print it?\n",
    "numb = list(range(1, 6))\n",
    "print(numb)"
   ]
  },
  {
   "cell_type": "code",
   "execution_count": 9,
   "id": "996af27d-7160-49ef-be7f-c6071293cb0f",
   "metadata": {},
   "outputs": [
    {
     "name": "stdout",
     "output_type": "stream",
     "text": [
      "[1, 2, 3, 4, 10]\n"
     ]
    }
   ],
   "source": [
    "#7.Write a code to append the number 10 to the list [1, 2, 3, 4]?\n",
    "my_list = [1, 2, 3, 4]\n",
    "my_list.append(10)\n",
    "print(my_list)"
   ]
  },
  {
   "cell_type": "code",
   "execution_count": 10,
   "id": "69835002-9e7d-4ed5-a5ab-bb433aa18cda",
   "metadata": {},
   "outputs": [
    {
     "name": "stdout",
     "output_type": "stream",
     "text": [
      "[1, 2, 4, 5]\n"
     ]
    }
   ],
   "source": [
    "#8.Write a code to remove the number 3 from the list [1, 2, 3, 4, 5]?\n",
    "my_list = [1, 2, 3, 4, 5]\n",
    "my_list.remove(3)\n",
    "print(my_list)"
   ]
  },
  {
   "cell_type": "code",
   "execution_count": 11,
   "id": "78001e91-1950-447e-9aef-703e580e88a4",
   "metadata": {},
   "outputs": [
    {
     "name": "stdout",
     "output_type": "stream",
     "text": [
      "b\n"
     ]
    }
   ],
   "source": [
    "#9.Write a code to access the second element in the list ['a', 'b', 'c', 'd']?\n",
    "x= ['a', 'b', 'c', 'd']\n",
    "print(x[1])"
   ]
  },
  {
   "cell_type": "code",
   "execution_count": 13,
   "id": "d7b6376f-55ed-4860-a14d-1e861918771f",
   "metadata": {},
   "outputs": [
    {
     "name": "stdout",
     "output_type": "stream",
     "text": [
      "[50, 40, 30, 20, 10]\n"
     ]
    }
   ],
   "source": [
    "#10.Write a code to reverse the list [10, 20, 30, 40, 50].\n",
    "x= [10, 20, 30, 40, 50]\n",
    "print(x[::-1])"
   ]
  },
  {
   "cell_type": "code",
   "execution_count": 14,
   "id": "dd247bff-ab34-46a0-8005-4b27349890a6",
   "metadata": {},
   "outputs": [
    {
     "name": "stdout",
     "output_type": "stream",
     "text": [
      "(100, 200, 300)\n"
     ]
    }
   ],
   "source": [
    "#11.Write a code to create a tuple with the elements 100, 200, 300 and print it.\n",
    "my_tuple = (100, 200, 300)\n",
    "print(my_tuple)"
   ]
  },
  {
   "cell_type": "code",
   "execution_count": 15,
   "id": "86fd5acd-9246-46e1-b48d-e02379580f48",
   "metadata": {},
   "outputs": [
    {
     "name": "stdout",
     "output_type": "stream",
     "text": [
      "blue\n"
     ]
    }
   ],
   "source": [
    "#12. Write a code to access the second-to-last element of the tuple ('red', 'green', 'blue', 'yellow').\n",
    "colors = ('red', 'green', 'blue', 'yellow')\n",
    "print(colors[-2])"
   ]
  },
  {
   "cell_type": "code",
   "execution_count": 16,
   "id": "fca706eb-a6e5-433c-b0fc-8cd872a4054c",
   "metadata": {},
   "outputs": [
    {
     "name": "stdout",
     "output_type": "stream",
     "text": [
      "5\n"
     ]
    }
   ],
   "source": [
    "#13. Write a code to find the minimum number in the tuple (10, 20, 5, 15).\n",
    "numbers = (10, 20, 5, 15)\n",
    "minimum = min(numbers)\n",
    "print(minimum)"
   ]
  },
  {
   "cell_type": "code",
   "execution_count": 17,
   "id": "c908f1e1-3b08-45fd-bfff-b559813482d9",
   "metadata": {},
   "outputs": [
    {
     "name": "stdout",
     "output_type": "stream",
     "text": [
      "1\n"
     ]
    }
   ],
   "source": [
    "#14.Write a code to find the index of the element \"cat\" in the tuple ('dog', 'cat', 'rabbit').\n",
    "animals = ('dog', 'cat', 'rabbit')\n",
    "print(animals.index('cat'))"
   ]
  },
  {
   "cell_type": "code",
   "execution_count": 18,
   "id": "4ef15b1e-4430-4284-a349-05005eb8f05e",
   "metadata": {},
   "outputs": [
    {
     "name": "stdout",
     "output_type": "stream",
     "text": [
      "Kiwi is not in the tuple.\n"
     ]
    }
   ],
   "source": [
    "#15.Write a code to create a tuple containing three different fruits and check if \"kiwi\" is in it.\n",
    "fruits = ('apple', 'banana', 'orange')\n",
    "if 'kiwi' in fruits:\n",
    "    print(\"Kiwi is in the tuple.\")\n",
    "else:\n",
    "    print(\"Kiwi is not in the tuple.\")"
   ]
  },
  {
   "cell_type": "code",
   "execution_count": 19,
   "id": "4e2f4d49-3870-433a-85f9-7a53c3c7457d",
   "metadata": {},
   "outputs": [
    {
     "name": "stdout",
     "output_type": "stream",
     "text": [
      "{'a', 'b', 'c'}\n"
     ]
    }
   ],
   "source": [
    "#16. Write a code to create a set with the elements 'a', 'b', 'c' and print it.\n",
    "my_set = {'a', 'b', 'c'}\n",
    "print(my_set)"
   ]
  },
  {
   "cell_type": "code",
   "execution_count": 20,
   "id": "f3dfab55-25f0-4951-b180-18d94b6536fb",
   "metadata": {},
   "outputs": [
    {
     "name": "stdout",
     "output_type": "stream",
     "text": [
      "set()\n"
     ]
    }
   ],
   "source": [
    "#17. Write a code to clear all elements from the set {1, 2, 3, 4, 5}\n",
    "my_set = {1, 2, 3, 4, 5}\n",
    "my_set.clear()\n",
    "print(my_set)"
   ]
  },
  {
   "cell_type": "code",
   "execution_count": 21,
   "id": "628bd05e-2fa9-4ad6-9613-bac4942d6ad3",
   "metadata": {},
   "outputs": [
    {
     "name": "stdout",
     "output_type": "stream",
     "text": [
      "{1, 2, 3}\n"
     ]
    }
   ],
   "source": [
    "#18. Write a code to remove the element 4 from the set {1, 2, 3, 4}.\n",
    "my_set = {1, 2, 3, 4}\n",
    "my_set.remove(4)\n",
    "print(my_set)"
   ]
  },
  {
   "cell_type": "code",
   "execution_count": 22,
   "id": "3819e49d-8610-4f5a-920f-a6913da5f963",
   "metadata": {},
   "outputs": [
    {
     "name": "stdout",
     "output_type": "stream",
     "text": [
      "{1, 2, 3, 4, 5}\n"
     ]
    }
   ],
   "source": [
    "#19. Write a code to find the union of two sets {1, 2, 3} and {3, 4, 5}.\n",
    "set1 = {1, 2, 3}\n",
    "set2 = {3, 4, 5}\n",
    "print( set1.union(set2))\n"
   ]
  },
  {
   "cell_type": "code",
   "execution_count": 23,
   "id": "56c8661a-e208-4c60-b090-fbb68733e853",
   "metadata": {},
   "outputs": [
    {
     "name": "stdout",
     "output_type": "stream",
     "text": [
      "{2, 3}\n"
     ]
    }
   ],
   "source": [
    "#20.Write a code to find the intersection of two sets {1, 2, 3} and {2, 3, 4}.\n",
    "set1 = {1, 2, 3}\n",
    "set2 = {2, 3, 4}\n",
    "x= set1.intersection(set2)\n",
    "print(x)"
   ]
  },
  {
   "cell_type": "code",
   "execution_count": 24,
   "id": "20fe869d-4d5c-49b2-9e7e-068dc12b395e",
   "metadata": {},
   "outputs": [
    {
     "name": "stdout",
     "output_type": "stream",
     "text": [
      "{'name': 'Abinash', 'age': 21, 'city': 'Kharagpur'}\n"
     ]
    }
   ],
   "source": [
    "#21. Write a code to create a dictionary with the keys \"name\", \"age\", and \"city\", and print it.\n",
    "person = {'name': 'Abinash', 'age': 21, 'city': 'Kharagpur'}\n",
    "print(person)"
   ]
  },
  {
   "cell_type": "code",
   "execution_count": 25,
   "id": "f77ccf66-37fd-478e-9dd9-6b97b9b8e5b7",
   "metadata": {},
   "outputs": [
    {
     "name": "stdout",
     "output_type": "stream",
     "text": [
      "{'name': 'John', 'age': 25, 'country': 'USA'}\n"
     ]
    }
   ],
   "source": [
    "#22. Write a code to add a new key-value pair \"country\": \"USA\" to the dictionary {'name': 'John', 'age': 25}.\n",
    "person = {'name': 'John', 'age': 25}\n",
    "person['country'] = 'USA'\n",
    "print(person)"
   ]
  },
  {
   "cell_type": "code",
   "execution_count": 26,
   "id": "085efaff-2f95-4ecc-a59f-239868b037db",
   "metadata": {},
   "outputs": [
    {
     "name": "stdout",
     "output_type": "stream",
     "text": [
      "Alice\n"
     ]
    }
   ],
   "source": [
    "#23. Write a code to access the value associated with the key \"name\" in the dictionary {'name': 'Alice', 'age': 30}.\n",
    "person = {'name': 'Alice', 'age': 30}\n",
    "print(person['name'])"
   ]
  },
  {
   "cell_type": "code",
   "execution_count": 27,
   "id": "0038b0a5-632b-4391-a6e4-e10ed41728bc",
   "metadata": {},
   "outputs": [
    {
     "name": "stdout",
     "output_type": "stream",
     "text": [
      "{'name': 'Bob', 'city': 'New York'}\n"
     ]
    }
   ],
   "source": [
    "#24.Write a code to remove the key \"age\" from the dictionary {'name': 'Bob', 'age': 22, 'city': 'New York'}.\n",
    "person = {'name': 'Bob', 'age': 22, 'city': 'New York'}\n",
    "del person['age']\n",
    "print(person)"
   ]
  },
  {
   "cell_type": "code",
   "execution_count": 28,
   "id": "0dcb6bd2-1136-4794-8ea5-f940f0b618a3",
   "metadata": {},
   "outputs": [
    {
     "name": "stdout",
     "output_type": "stream",
     "text": [
      "True\n"
     ]
    }
   ],
   "source": [
    "#25.Write a code to check if the key \"city\" exists in the dictionary {'name': 'Alice', 'city': 'Paris'}.\n",
    "person = {'name': 'Alice', 'city': 'Paris'}\n",
    "print('city' in person)"
   ]
  },
  {
   "cell_type": "code",
   "execution_count": 29,
   "id": "af81d369-70e9-40f1-98e7-ffb154dd186c",
   "metadata": {},
   "outputs": [
    {
     "name": "stdout",
     "output_type": "stream",
     "text": [
      "List: [1, 2, 3]\n",
      "Tuple: ('a', 'b', 'c')\n",
      "Dictionary: {'key1': 'value1', 'key2': 'value2'}\n"
     ]
    }
   ],
   "source": [
    "#26. Write a code to create a list, a tuple, and a dictionary, and print them all.\n",
    "my_list = [1, 2, 3]\n",
    "my_tuple = ('a', 'b', 'c')\n",
    "my_dict = {'key1': 'value1', 'key2': 'value2'}\n",
    "print(\"List:\", my_list)\n",
    "print(\"Tuple:\", my_tuple)\n",
    "print(\"Dictionary:\", my_dict)"
   ]
  },
  {
   "cell_type": "code",
   "execution_count": 31,
   "id": "908b0e1e-ff2f-421a-9ec4-3ea753e1ae9c",
   "metadata": {},
   "outputs": [
    {
     "name": "stdout",
     "output_type": "stream",
     "text": [
      "[6, 24, 83, 85, 91]\n"
     ]
    }
   ],
   "source": [
    "#27. Write a code to create a list of 5 random numbers between 1 and 100, sort it in ascending order, and print the result.\n",
    "import random\n",
    "numbers = random.sample(range(1, 101), 5)\n",
    "numbers.sort()\n",
    "print(numbers)\n"
   ]
  },
  {
   "cell_type": "code",
   "execution_count": 33,
   "id": "e9a445a0-adee-4a54-865b-c1cfa0639b47",
   "metadata": {},
   "outputs": [
    {
     "name": "stdout",
     "output_type": "stream",
     "text": [
      "date\n"
     ]
    }
   ],
   "source": [
    "#28.Write a code to create a list with strings and print the element at the third index.\n",
    "words = ['apple', 'banana', 'cherry', 'date', 'mango']\n",
    "print(words[3])"
   ]
  },
  {
   "cell_type": "code",
   "execution_count": 35,
   "id": "4fd3f461-228a-4fd3-a181-9922f9314751",
   "metadata": {},
   "outputs": [
    {
     "name": "stdout",
     "output_type": "stream",
     "text": [
      "{'a': 1, 'b': 2, 'c': 3, 'd': 4}\n"
     ]
    }
   ],
   "source": [
    "#29.Write a code to combine two dictionaries into one and print the result.\n",
    "dict1 = {'a': 1, 'b': 2}\n",
    "dict2 = {'c': 3, 'd': 4}\n",
    "combined = {**dict1, **dict2}\n",
    "print(combined)"
   ]
  },
  {
   "cell_type": "code",
   "execution_count": 36,
   "id": "f476ed32-a45c-45b8-aed0-5b8116f9d2db",
   "metadata": {},
   "outputs": [
    {
     "name": "stdout",
     "output_type": "stream",
     "text": [
      "{'apple', 'banana', 'orange'}\n"
     ]
    }
   ],
   "source": [
    "#30. Write a code to convert a list of strings into a set.\n",
    "string_list = ['apple', 'banana', 'apple', 'orange']\n",
    "string_set = set(string_list)\n",
    "print(string_set)"
   ]
  },
  {
   "cell_type": "code",
   "execution_count": null,
   "id": "78483c92-f461-4a01-b67a-9bd25e207217",
   "metadata": {},
   "outputs": [],
   "source": []
  }
 ],
 "metadata": {
  "kernelspec": {
   "display_name": "Python 3 (ipykernel)",
   "language": "python",
   "name": "python3"
  },
  "language_info": {
   "codemirror_mode": {
    "name": "ipython",
    "version": 3
   },
   "file_extension": ".py",
   "mimetype": "text/x-python",
   "name": "python",
   "nbconvert_exporter": "python",
   "pygments_lexer": "ipython3",
   "version": "3.13.3"
  }
 },
 "nbformat": 4,
 "nbformat_minor": 5
}
